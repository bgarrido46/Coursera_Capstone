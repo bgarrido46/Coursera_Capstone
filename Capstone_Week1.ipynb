{
 "cells": [
  {
   "cell_type": "markdown",
   "metadata": {},
   "source": [
    "# Capstone Project: The Battle of the Neighborhoods (Week 1)\n",
    "\n",
    "### Applied Data Science Capstone by IBM/Coursera"
   ]
  },
  {
   "cell_type": "markdown",
   "metadata": {},
   "source": [
    "## Introduction: Business Problem"
   ]
  },
  {
   "cell_type": "markdown",
   "metadata": {},
   "source": [
    "Of all the fast food restaurants, my friends and family frequent Chick-fil-A the most by far.  Every time we go, there are always several customers there and we joke that Chick-fil-A is a gold mine.  Recently, I got to meet someone going through the training program to become a restaurant operator and I'd like to apply what I've learned to potentially help them find the best locations to open a new restaurant, specifically in the Austin area of Texas."
   ]
  },
  {
   "cell_type": "markdown",
   "metadata": {},
   "source": [
    "## Data"
   ]
  },
  {
   "cell_type": "markdown",
   "metadata": {},
   "source": [
    "Restaurant data will be gathered using the Foursquare API. Data will from the cities Austin, Cedar Park, Leander, Pflugerville, and Round Rock.  I'll be looking for clusters of fast food restaurants without a Chick-fil-A and measuring the distance to the nearest Chick-fil-A.  If I require more data, I'll be addding those sources here."
   ]
  },
  {
   "cell_type": "code",
   "execution_count": null,
   "metadata": {},
   "outputs": [],
   "source": []
  }
 ],
 "metadata": {
  "kernelspec": {
   "display_name": "Python 3",
   "language": "python",
   "name": "python3"
  },
  "language_info": {
   "codemirror_mode": {
    "name": "ipython",
    "version": 3
   },
   "file_extension": ".py",
   "mimetype": "text/x-python",
   "name": "python",
   "nbconvert_exporter": "python",
   "pygments_lexer": "ipython3",
   "version": "3.7.6"
  }
 },
 "nbformat": 4,
 "nbformat_minor": 4
}
